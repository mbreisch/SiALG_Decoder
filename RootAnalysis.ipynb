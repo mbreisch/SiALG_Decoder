{
 "cells": [
  {
   "cell_type": "code",
   "execution_count": 1,
   "metadata": {},
   "outputs": [],
   "source": [
    "# imports\n",
    "import sys \n",
    "import random\n",
    "import numpy as np \n",
    "import matplotlib.pyplot as plt \n",
    "import matplotlib.colors as colors \n",
    "import matplotlib.cbook as cbook \n",
    "plt.rcParams.update({'font.size': 12}) \n",
    "import mpld3 \n",
    "import ast\n",
    "#import ROOT\n",
    "import uproot3 as ur3\n",
    "import uproot as ur4\n",
    "import pandas as pd \n",
    "from tqdm import tqdm \n",
    "from scipy.optimize import curve_fit \n",
    "from scipy import stats\n",
    "from scipy.signal import lfilter, filtfilt\n",
    "from scipy.signal import savgol_filter\n",
    "from scipy.signal import find_peaks\n",
    "import scipy.integrate as integrate\n",
    "from lmfit import Model\n",
    "import threading\n",
    "from pathlib import Path\n",
    "from matplotlib import gridspec\n",
    "import datetime\n",
    "import matplotlib.ticker as mticker\n",
    "import time\n",
    "import pathlib\n",
    "import awkward as ak\n",
    "import pprint\n",
    "import pickle\n",
    "import struct\n",
    "from os.path import exists"
   ]
  },
  {
   "cell_type": "code",
   "execution_count": 2,
   "metadata": {},
   "outputs": [],
   "source": [
    "global Settings\n",
    "Settings = {}"
   ]
  },
  {
   "cell_type": "code",
   "execution_count": 3,
   "metadata": {},
   "outputs": [],
   "source": [
    "def GetBranchFromTree(filename,branchname):\n",
    "    myFile = ur4.open(filename)\n",
    "    \n",
    "    nparray = np.array(myFile[Settings[\"General\"][\"Treename\"]][branchname].array())\n",
    "        \n",
    "    myFile.close()\n",
    "        \n",
    "    return nparray\n",
    "\n",
    "def checktype(value):\n",
    "    if value.startswith('['):\n",
    "        return ast.literal_eval(value)\n",
    "\n",
    "    if value.isnumeric():\n",
    "        return int(value)\n",
    "\n",
    "    if '.' in value:\n",
    "        splits = value.split('.',-1)\n",
    "        if len(splits) == 2 and splits[0].isnumeric() and splits[1].isnumeric():\n",
    "            return float(value)\n",
    "        else:\n",
    "            return value\n",
    "\n",
    "    if '-' in value:\n",
    "        splits = value.split('-',-1)\n",
    "        if len(splits)>1 and splits[0]!='':\n",
    "            return value\n",
    "        else: \n",
    "            if '.' in value:\n",
    "                return float(value)\n",
    "            else:\n",
    "                return int(value)\n",
    "    return value\n",
    "\n",
    "def LoadSettings(setfile):\n",
    "    #Load Settings file\n",
    "    print(\"Using \"+setfile+\" as Settings\")\n",
    "    with open(setfile, \"r\") as open_file:\n",
    "        for line in open_file.readlines():\n",
    "            if line.startswith('#') or len(line)<=1 or line.isspace():\n",
    "                continue\n",
    "            elif line.startswith('+'):  \n",
    "                upper_key = line.strip(\"+\").strip('\\n')\n",
    "            else:\n",
    "                [lower_key,str_value] = line.split(\" = \")\n",
    "                value = checktype(str_value.strip('\\n'))\n",
    "                if upper_key not in Settings:\n",
    "                    Settings.update({upper_key:{lower_key:value}})\n",
    "                else:\n",
    "                    Settings[upper_key].update({lower_key:value})\n",
    "    open_file.close()"
   ]
  },
  {
   "cell_type": "code",
   "execution_count": 4,
   "metadata": {},
   "outputs": [
    {
     "name": "stdout",
     "output_type": "stream",
     "text": [
      "Using ./Settings as Settings\n"
     ]
    },
    {
     "ename": "FileNotFoundError",
     "evalue": "[Errno 2] No such file or directory: './Settings'",
     "output_type": "error",
     "traceback": [
      "\u001b[1;31m---------------------------------------------------------------------------\u001b[0m",
      "\u001b[1;31mFileNotFoundError\u001b[0m                         Traceback (most recent call last)",
      "\u001b[1;32ms:\\SiALG_Decoder\\RootAnalysis.ipynb Cell 4\u001b[0m line \u001b[0;36m2\n\u001b[0;32m      <a href='vscode-notebook-cell:/s%3A/SiALG_Decoder/RootAnalysis.ipynb#W2sZmlsZQ%3D%3D?line=0'>1</a>\u001b[0m \u001b[39m# First load settings\u001b[39;00m\n\u001b[1;32m----> <a href='vscode-notebook-cell:/s%3A/SiALG_Decoder/RootAnalysis.ipynb#W2sZmlsZQ%3D%3D?line=1'>2</a>\u001b[0m LoadSettings(\u001b[39m\"\u001b[39;49m\u001b[39m./Settings\u001b[39;49m\u001b[39m\"\u001b[39;49m)\n\u001b[0;32m      <a href='vscode-notebook-cell:/s%3A/SiALG_Decoder/RootAnalysis.ipynb#W2sZmlsZQ%3D%3D?line=2'>3</a>\u001b[0m pprint\u001b[39m.\u001b[39mpprint(Settings)\n",
      "\u001b[1;32ms:\\SiALG_Decoder\\RootAnalysis.ipynb Cell 4\u001b[0m line \u001b[0;36m3\n\u001b[0;32m     <a href='vscode-notebook-cell:/s%3A/SiALG_Decoder/RootAnalysis.ipynb#W2sZmlsZQ%3D%3D?line=34'>35</a>\u001b[0m \u001b[39mdef\u001b[39;00m \u001b[39mLoadSettings\u001b[39m(setfile):\n\u001b[0;32m     <a href='vscode-notebook-cell:/s%3A/SiALG_Decoder/RootAnalysis.ipynb#W2sZmlsZQ%3D%3D?line=35'>36</a>\u001b[0m     \u001b[39m#Load Settings file\u001b[39;00m\n\u001b[0;32m     <a href='vscode-notebook-cell:/s%3A/SiALG_Decoder/RootAnalysis.ipynb#W2sZmlsZQ%3D%3D?line=36'>37</a>\u001b[0m     \u001b[39mprint\u001b[39m(\u001b[39m\"\u001b[39m\u001b[39mUsing \u001b[39m\u001b[39m\"\u001b[39m\u001b[39m+\u001b[39msetfile\u001b[39m+\u001b[39m\u001b[39m\"\u001b[39m\u001b[39m as Settings\u001b[39m\u001b[39m\"\u001b[39m)\n\u001b[1;32m---> <a href='vscode-notebook-cell:/s%3A/SiALG_Decoder/RootAnalysis.ipynb#W2sZmlsZQ%3D%3D?line=37'>38</a>\u001b[0m     \u001b[39mwith\u001b[39;00m \u001b[39mopen\u001b[39;49m(setfile, \u001b[39m\"\u001b[39;49m\u001b[39mr\u001b[39;49m\u001b[39m\"\u001b[39;49m) \u001b[39mas\u001b[39;00m open_file:\n\u001b[0;32m     <a href='vscode-notebook-cell:/s%3A/SiALG_Decoder/RootAnalysis.ipynb#W2sZmlsZQ%3D%3D?line=38'>39</a>\u001b[0m         \u001b[39mfor\u001b[39;00m line \u001b[39min\u001b[39;00m open_file\u001b[39m.\u001b[39mreadlines():\n\u001b[0;32m     <a href='vscode-notebook-cell:/s%3A/SiALG_Decoder/RootAnalysis.ipynb#W2sZmlsZQ%3D%3D?line=39'>40</a>\u001b[0m             \u001b[39mif\u001b[39;00m line\u001b[39m.\u001b[39mstartswith(\u001b[39m'\u001b[39m\u001b[39m#\u001b[39m\u001b[39m'\u001b[39m) \u001b[39mor\u001b[39;00m \u001b[39mlen\u001b[39m(line)\u001b[39m<\u001b[39m\u001b[39m=\u001b[39m\u001b[39m1\u001b[39m \u001b[39mor\u001b[39;00m line\u001b[39m.\u001b[39misspace():\n",
      "File \u001b[1;32m~\\AppData\\Roaming\\Python\\Python39\\site-packages\\IPython\\core\\interactiveshell.py:284\u001b[0m, in \u001b[0;36m_modified_open\u001b[1;34m(file, *args, **kwargs)\u001b[0m\n\u001b[0;32m    277\u001b[0m \u001b[39mif\u001b[39;00m file \u001b[39min\u001b[39;00m {\u001b[39m0\u001b[39m, \u001b[39m1\u001b[39m, \u001b[39m2\u001b[39m}:\n\u001b[0;32m    278\u001b[0m     \u001b[39mraise\u001b[39;00m \u001b[39mValueError\u001b[39;00m(\n\u001b[0;32m    279\u001b[0m         \u001b[39mf\u001b[39m\u001b[39m\"\u001b[39m\u001b[39mIPython won\u001b[39m\u001b[39m'\u001b[39m\u001b[39mt let you open fd=\u001b[39m\u001b[39m{\u001b[39;00mfile\u001b[39m}\u001b[39;00m\u001b[39m by default \u001b[39m\u001b[39m\"\u001b[39m\n\u001b[0;32m    280\u001b[0m         \u001b[39m\"\u001b[39m\u001b[39mas it is likely to crash IPython. If you know what you are doing, \u001b[39m\u001b[39m\"\u001b[39m\n\u001b[0;32m    281\u001b[0m         \u001b[39m\"\u001b[39m\u001b[39myou can use builtins\u001b[39m\u001b[39m'\u001b[39m\u001b[39m open.\u001b[39m\u001b[39m\"\u001b[39m\n\u001b[0;32m    282\u001b[0m     )\n\u001b[1;32m--> 284\u001b[0m \u001b[39mreturn\u001b[39;00m io_open(file, \u001b[39m*\u001b[39margs, \u001b[39m*\u001b[39m\u001b[39m*\u001b[39mkwargs)\n",
      "\u001b[1;31mFileNotFoundError\u001b[0m: [Errno 2] No such file or directory: './Settings'"
     ]
    }
   ],
   "source": [
    "# First load settings\n",
    "LoadSettings(\"./Settings\")\n",
    "pprint.pprint(Settings)"
   ]
  }
 ],
 "metadata": {
  "kernelspec": {
   "display_name": "Python 3",
   "language": "python",
   "name": "python3"
  },
  "language_info": {
   "codemirror_mode": {
    "name": "ipython",
    "version": 3
   },
   "file_extension": ".py",
   "mimetype": "text/x-python",
   "name": "python",
   "nbconvert_exporter": "python",
   "pygments_lexer": "ipython3",
   "version": "3.9.13"
  }
 },
 "nbformat": 4,
 "nbformat_minor": 2
}
